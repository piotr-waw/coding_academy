{
 "cells": [
  {
   "cell_type": "code",
   "execution_count": 1,
   "metadata": {},
   "outputs": [],
   "source": [
    "# A binary gap within a positive integer N is any maximal sequence of consecutive zeros that is surrounded by ones at\n",
    "# both ends in the binary representation of N.\n",
    "#\n",
    "# For example, number 9 has binary representation 1001 and contains a binary gap of length 2.\n",
    "# The number 529 has binary representation 1000010001 and contains two binary gaps: one of length 4 and one of length 3.\n",
    "# The number 20 has binary representation 10100 and contains one binary gap of length 1.\n",
    "# The number 15 has binary representation 1111 and has no binary gaps.\n",
    "# The number 32 has binary representation 100000 and has no binary gaps.\n",
    "#\n",
    "# Write a function:\n",
    "#\n",
    "#     def solution(N)\n",
    "#\n",
    "# that, given a positive integer N, returns the length of its longest binary gap. The function should return 0\n",
    "# if N doesn't contain a binary gap.\n",
    "#\n",
    "# For example, given N = 1041 the function should return 5, because N has binary representation 10000010001 and so\n",
    "# its longest binary gap is of length 5.\n",
    "# Given N = 32 the function should return 0, because N has binary representation '100000' and thus no binary gaps.\n",
    "#\n",
    "# Write an efficient algorithm for the following assumptions:\n",
    "#\n",
    "# N is an integer within the range [1..2,147,483,647].\n",
    "\n",
    "\n",
    "def solution(N):\n",
    "    print('Binary representation of number N:', bin(N))\n",
    "    #binary = bin(N)[2:]\n",
    "    #print('slice value important for us :', binary)\n",
    "    print('Finding maximal sequence of consecutive zeros as assumed :', )\n",
    "    return len(max(bin(N)[2:].strip('0').strip('1').split('1')))\n",
    "    "
   ]
  },
  {
   "cell_type": "code",
   "execution_count": 2,
   "metadata": {},
   "outputs": [
    {
     "name": "stdout",
     "output_type": "stream",
     "text": [
      "Binary representation of number N: 0b10000010001\n",
      "Finding maximal sequence of consecutive zeros as assumed :\n"
     ]
    },
    {
     "data": {
      "text/plain": [
       "5"
      ]
     },
     "execution_count": 2,
     "metadata": {},
     "output_type": "execute_result"
    }
   ],
   "source": [
    "solution(1041)"
   ]
  },
  {
   "cell_type": "code",
   "execution_count": 3,
   "metadata": {},
   "outputs": [
    {
     "name": "stdout",
     "output_type": "stream",
     "text": [
      "Binary representation of number N: 0b100000\n",
      "Finding maximal sequence of consecutive zeros as assumed :\n"
     ]
    },
    {
     "data": {
      "text/plain": [
       "0"
      ]
     },
     "execution_count": 3,
     "metadata": {},
     "output_type": "execute_result"
    }
   ],
   "source": [
    "solution(32)"
   ]
  },
  {
   "cell_type": "markdown",
   "metadata": {},
   "source": [
    "### From test ###"
   ]
  },
  {
   "cell_type": "code",
   "execution_count": 4,
   "metadata": {},
   "outputs": [],
   "source": [
    "# self.assertEqual(5, binary_gap.solution(1041))\n",
    "# self.assertEqual(0, binary_gap.solution(32))\n",
    "# self.assertEqual(0, binary_gap.solution(1024))\n",
    "# self.assertEqual(9, binary_gap.solution(1025))\n",
    "# self.assertEqual(4, binary_gap.solution(999999))"
   ]
  },
  {
   "cell_type": "code",
   "execution_count": 5,
   "metadata": {},
   "outputs": [
    {
     "name": "stdout",
     "output_type": "stream",
     "text": [
      "Binary representation of number N: 0b10000010001\n",
      "Finding maximal sequence of consecutive zeros as assumed :\n"
     ]
    },
    {
     "data": {
      "text/plain": [
       "5"
      ]
     },
     "execution_count": 5,
     "metadata": {},
     "output_type": "execute_result"
    }
   ],
   "source": [
    "solution(1041)"
   ]
  },
  {
   "cell_type": "code",
   "execution_count": 6,
   "metadata": {},
   "outputs": [
    {
     "name": "stdout",
     "output_type": "stream",
     "text": [
      "Binary representation of number N: 0b100000\n",
      "Finding maximal sequence of consecutive zeros as assumed :\n"
     ]
    },
    {
     "data": {
      "text/plain": [
       "0"
      ]
     },
     "execution_count": 6,
     "metadata": {},
     "output_type": "execute_result"
    }
   ],
   "source": [
    "solution(32)"
   ]
  },
  {
   "cell_type": "code",
   "execution_count": 7,
   "metadata": {},
   "outputs": [
    {
     "name": "stdout",
     "output_type": "stream",
     "text": [
      "Binary representation of number N: 0b10000000000\n",
      "Finding maximal sequence of consecutive zeros as assumed :\n"
     ]
    },
    {
     "data": {
      "text/plain": [
       "0"
      ]
     },
     "execution_count": 7,
     "metadata": {},
     "output_type": "execute_result"
    }
   ],
   "source": [
    "solution(1024)"
   ]
  },
  {
   "cell_type": "code",
   "execution_count": 8,
   "metadata": {},
   "outputs": [
    {
     "name": "stdout",
     "output_type": "stream",
     "text": [
      "Binary representation of number N: 0b10000000001\n",
      "Finding maximal sequence of consecutive zeros as assumed :\n"
     ]
    },
    {
     "data": {
      "text/plain": [
       "9"
      ]
     },
     "execution_count": 8,
     "metadata": {},
     "output_type": "execute_result"
    }
   ],
   "source": [
    "solution(1025)"
   ]
  },
  {
   "cell_type": "code",
   "execution_count": 9,
   "metadata": {},
   "outputs": [
    {
     "name": "stdout",
     "output_type": "stream",
     "text": [
      "Binary representation of number N: 0b11110100001000111111\n",
      "Finding maximal sequence of consecutive zeros as assumed :\n"
     ]
    },
    {
     "data": {
      "text/plain": [
       "4"
      ]
     },
     "execution_count": 9,
     "metadata": {},
     "output_type": "execute_result"
    }
   ],
   "source": [
    "solution(999999)"
   ]
  },
  {
   "cell_type": "code",
   "execution_count": null,
   "metadata": {},
   "outputs": [],
   "source": []
  }
 ],
 "metadata": {
  "kernelspec": {
   "display_name": "Python 3",
   "language": "python",
   "name": "python3"
  },
  "language_info": {
   "codemirror_mode": {
    "name": "ipython",
    "version": 3
   },
   "file_extension": ".py",
   "mimetype": "text/x-python",
   "name": "python",
   "nbconvert_exporter": "python",
   "pygments_lexer": "ipython3",
   "version": "3.7.3"
  }
 },
 "nbformat": 4,
 "nbformat_minor": 2
}
