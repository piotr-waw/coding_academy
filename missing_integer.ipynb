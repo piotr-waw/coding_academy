{
 "cells": [
  {
   "cell_type": "code",
   "execution_count": 1,
   "metadata": {},
   "outputs": [],
   "source": [
    "# Write a function:\n",
    "#\n",
    "#     def solution(A)\n",
    "#\n",
    "# that, given an array A of N integers, returns the smallest positive integer (greater than 0) that does not occur in A.\n",
    "#\n",
    "# For example, given A = [1, 3, 6, 4, 1, 2], the function should return 5.\n",
    "#\n",
    "# Given A = [1, 2, 3], the function should return 4.\n",
    "#\n",
    "# Given A = [−1, −3], the function should return 1.\n",
    "#\n",
    "# Write an efficient algorithm for the following assumptions:\n",
    "#\n",
    "#         N is an integer within the range [1..100,000];\n",
    "#         each element of array A is an integer within the range [−1,000,000..1,000,000].\n",
    "#\n",
    "\n",
    "\n",
    "def solution(A):\n",
    "    A.sort()\n",
    "    print('Array A :', A)\n",
    "    A.append(A[-1]+1)\n",
    "    \n",
    "    missing = [x for x in range(A[0], A[-1]+1)  \n",
    "                               if x not in A]\n",
    "    if A[-1] <= 0:\n",
    "        return 1\n",
    "    \n",
    "    if missing == []:\n",
    "        return A[-1]\n",
    "    \n",
    "    return missing"
   ]
  },
  {
   "cell_type": "code",
   "execution_count": 2,
   "metadata": {},
   "outputs": [
    {
     "name": "stdout",
     "output_type": "stream",
     "text": [
      "Array A : [1, 1, 2, 3, 4, 6]\n"
     ]
    },
    {
     "data": {
      "text/plain": [
       "[5]"
      ]
     },
     "execution_count": 2,
     "metadata": {},
     "output_type": "execute_result"
    }
   ],
   "source": [
    "solution([1, 3, 6, 4, 1, 2])"
   ]
  },
  {
   "cell_type": "markdown",
   "metadata": {},
   "source": [
    "### From test ###"
   ]
  },
  {
   "cell_type": "code",
   "execution_count": 3,
   "metadata": {},
   "outputs": [],
   "source": [
    "#self.assertEqual(4, missing_integer.solution([1, 2, 3]))\n",
    "#self.assertEqual(1, missing_integer.solution([-1, -3]))"
   ]
  },
  {
   "cell_type": "code",
   "execution_count": 4,
   "metadata": {},
   "outputs": [
    {
     "name": "stdout",
     "output_type": "stream",
     "text": [
      "Array A : [1, 2, 3]\n"
     ]
    },
    {
     "data": {
      "text/plain": [
       "4"
      ]
     },
     "execution_count": 4,
     "metadata": {},
     "output_type": "execute_result"
    }
   ],
   "source": [
    "solution([1, 2, 3])"
   ]
  },
  {
   "cell_type": "code",
   "execution_count": 5,
   "metadata": {},
   "outputs": [
    {
     "name": "stdout",
     "output_type": "stream",
     "text": [
      "Array A : [-3, -1]\n"
     ]
    },
    {
     "data": {
      "text/plain": [
       "1"
      ]
     },
     "execution_count": 5,
     "metadata": {},
     "output_type": "execute_result"
    }
   ],
   "source": [
    "solution([-1, -3])"
   ]
  },
  {
   "cell_type": "code",
   "execution_count": null,
   "metadata": {},
   "outputs": [],
   "source": []
  }
 ],
 "metadata": {
  "kernelspec": {
   "display_name": "Python 3",
   "language": "python",
   "name": "python3"
  },
  "language_info": {
   "codemirror_mode": {
    "name": "ipython",
    "version": 3
   },
   "file_extension": ".py",
   "mimetype": "text/x-python",
   "name": "python",
   "nbconvert_exporter": "python",
   "pygments_lexer": "ipython3",
   "version": "3.7.3"
  }
 },
 "nbformat": 4,
 "nbformat_minor": 2
}
