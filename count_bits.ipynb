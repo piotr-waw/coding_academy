{
 "cells": [
  {
   "cell_type": "code",
   "execution_count": 7,
   "metadata": {},
   "outputs": [],
   "source": [
    "# Write a function:\n",
    "#\n",
    "#     def solution(A, B)\n",
    "#\n",
    "# that, given two non-negative integers A and B, returns the number of bits set to 1 in the binary representation\n",
    "# of the number A * B.\n",
    "#\n",
    "# For example, given A = 3 and B = 7 the function should return 3, because the binary representation of\n",
    "# A * B = 3 * 7 = 21 is 10101 and it contains three bits set to 1.\n",
    "#\n",
    "# Assume that:\n",
    "# A and B are integers within the range [0..100,000,000].\n",
    "# In your solution, focus on correctness. The performance of your solution will not be the focus of the assessment.\n",
    "\n",
    "\n",
    "def solution(A, B):\n",
    "    score = A * B\n",
    "    print('score :', score)\n",
    "    if score >= 0 :\n",
    "        binary = bin(score)[2:]\n",
    "    \n",
    "        suma = 0\n",
    "        for bit in binary:\n",
    "            if bit == '1':\n",
    "                suma=suma+1\n",
    "        print('Number of bits set to 1 :')\n",
    "        return(suma)\n",
    "    else :\n",
    "        print('Illegal value')"
   ]
  },
  {
   "cell_type": "code",
   "execution_count": 8,
   "metadata": {},
   "outputs": [
    {
     "name": "stdout",
     "output_type": "stream",
     "text": [
      "score : 21\n",
      "Number of bits set to 1 :\n"
     ]
    },
    {
     "data": {
      "text/plain": [
       "3"
      ]
     },
     "execution_count": 8,
     "metadata": {},
     "output_type": "execute_result"
    }
   ],
   "source": [
    "solution(3, 7)"
   ]
  },
  {
   "cell_type": "code",
   "execution_count": 9,
   "metadata": {},
   "outputs": [
    {
     "name": "stdout",
     "output_type": "stream",
     "text": [
      "score : -21\n",
      "Illegal value\n"
     ]
    }
   ],
   "source": [
    "solution(3, -7)"
   ]
  },
  {
   "cell_type": "markdown",
   "metadata": {},
   "source": [
    "### From test ###"
   ]
  },
  {
   "cell_type": "code",
   "execution_count": 10,
   "metadata": {},
   "outputs": [],
   "source": [
    "#self.assertEqual(3, count_bits.solution(3, 7))\n",
    "#self.assertEqual(8, count_bits.solution(123, 456))\n",
    "#self.assertEqual(1, count_bits.solution(1024, 8))\n",
    "#self.assertEqual(8, count_bits.solution(999, 888))\n",
    "#self.assertEqual(18, count_bits.solution(99999, 88888))\n",
    "#self.assertEqual(0, count_bits.solution(0, 1))"
   ]
  },
  {
   "cell_type": "code",
   "execution_count": 11,
   "metadata": {},
   "outputs": [
    {
     "name": "stdout",
     "output_type": "stream",
     "text": [
      "score : 56088\n",
      "Number of bits set to 1 :\n"
     ]
    },
    {
     "data": {
      "text/plain": [
       "8"
      ]
     },
     "execution_count": 11,
     "metadata": {},
     "output_type": "execute_result"
    }
   ],
   "source": [
    "solution(123, 456)"
   ]
  },
  {
   "cell_type": "code",
   "execution_count": 12,
   "metadata": {},
   "outputs": [
    {
     "name": "stdout",
     "output_type": "stream",
     "text": [
      "score : 8192\n",
      "Number of bits set to 1 :\n"
     ]
    },
    {
     "data": {
      "text/plain": [
       "1"
      ]
     },
     "execution_count": 12,
     "metadata": {},
     "output_type": "execute_result"
    }
   ],
   "source": [
    "solution(1024, 8)"
   ]
  },
  {
   "cell_type": "code",
   "execution_count": 13,
   "metadata": {},
   "outputs": [
    {
     "name": "stdout",
     "output_type": "stream",
     "text": [
      "score : 887112\n",
      "Number of bits set to 1 :\n"
     ]
    },
    {
     "data": {
      "text/plain": [
       "8"
      ]
     },
     "execution_count": 13,
     "metadata": {},
     "output_type": "execute_result"
    }
   ],
   "source": [
    "solution(999, 888)"
   ]
  },
  {
   "cell_type": "code",
   "execution_count": 14,
   "metadata": {},
   "outputs": [
    {
     "name": "stdout",
     "output_type": "stream",
     "text": [
      "score : 8888711112\n",
      "Number of bits set to 1 :\n"
     ]
    },
    {
     "data": {
      "text/plain": [
       "18"
      ]
     },
     "execution_count": 14,
     "metadata": {},
     "output_type": "execute_result"
    }
   ],
   "source": [
    "solution(99999, 88888)"
   ]
  },
  {
   "cell_type": "code",
   "execution_count": 15,
   "metadata": {},
   "outputs": [
    {
     "name": "stdout",
     "output_type": "stream",
     "text": [
      "score : 0\n",
      "Number of bits set to 1 :\n"
     ]
    },
    {
     "data": {
      "text/plain": [
       "0"
      ]
     },
     "execution_count": 15,
     "metadata": {},
     "output_type": "execute_result"
    }
   ],
   "source": [
    "solution(0, 1)"
   ]
  },
  {
   "cell_type": "code",
   "execution_count": null,
   "metadata": {},
   "outputs": [],
   "source": []
  }
 ],
 "metadata": {
  "kernelspec": {
   "display_name": "Python 3",
   "language": "python",
   "name": "python3"
  },
  "language_info": {
   "codemirror_mode": {
    "name": "ipython",
    "version": 3
   },
   "file_extension": ".py",
   "mimetype": "text/x-python",
   "name": "python",
   "nbconvert_exporter": "python",
   "pygments_lexer": "ipython3",
   "version": "3.7.3"
  }
 },
 "nbformat": 4,
 "nbformat_minor": 2
}
