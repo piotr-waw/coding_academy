{
 "cells": [
  {
   "cell_type": "code",
   "execution_count": 14,
   "metadata": {},
   "outputs": [],
   "source": [
    "# Card number validity can be checked using Luhn algorithm.\n",
    "# https://en.wikipedia.org/wiki/Luhn_algorithm\n",
    "#\n",
    "# Your task is to implement this algorithm.\n",
    "#\n",
    "# Write function to validate credit card numbers:\n",
    "#   def solution(card_number):\n",
    "#\n",
    "# Variable card_number will be provided as string (no spaces inside).\n",
    "# Function should return True for valid card number, and False for invalid.\n",
    "#\n",
    "# Sample data:\n",
    "# Valid card numbers\n",
    "# 4111111111111111\n",
    "# 5500000000000004\n",
    "#\n",
    "# Invalid card numbers\n",
    "# 4198786787558765\n",
    "# 9875787643456354\n",
    "\n",
    "\n",
    "def solution(card_number):\n",
    "    \n",
    "    reverse_card_number = card_number[::-1]\n",
    "    reverse_card_number = [int(x) for x in reverse_card_number]\n",
    "    #print( 'Reverse card number, convert to int list : ', reverse_card_number)\n",
    "    \n",
    "    #List of digits : every double even and modified odd\n",
    "    digit_list = list()\n",
    "    digits = list(enumerate(reverse_card_number, start=1))\n",
    "\n",
    "    for index, digit in digits:\n",
    "        if index % 2 == 0:\n",
    "            digit_list.append(digit * 2)\n",
    "        else:\n",
    "            digit_list.append(digit)\n",
    "\n",
    "    # New List of target digits\n",
    "    digit_list_sum = list()\n",
    "    for digit in digit_list:     \n",
    "        if digit < 10:\n",
    "            # append number to list of digits\n",
    "            digit_list_sum.append(digit)\n",
    "        else:\n",
    "            # append sum of digits if giger than 9\n",
    "            suma = (digit % 10) + (digit // 10)\n",
    "            digit_list_sum.append(suma)\n",
    "    \n",
    "    # Sum of digits in target list        \n",
    "    total = 0\n",
    "    for i in digit_list_sum:\n",
    "        total += i\n",
    "    print('Total sum of digits :', total)\n",
    "\n",
    "    # return True or False\n",
    "    return total % 10 == 0\n",
    "   "
   ]
  },
  {
   "cell_type": "code",
   "execution_count": 15,
   "metadata": {},
   "outputs": [
    {
     "name": "stdout",
     "output_type": "stream",
     "text": [
      "Total sum of digits : 10\n"
     ]
    },
    {
     "data": {
      "text/plain": [
       "True"
      ]
     },
     "execution_count": 15,
     "metadata": {},
     "output_type": "execute_result"
    }
   ],
   "source": [
    "solution('5500000000000004')"
   ]
  },
  {
   "cell_type": "code",
   "execution_count": 16,
   "metadata": {},
   "outputs": [
    {
     "name": "stdout",
     "output_type": "stream",
     "text": [
      "Total sum of digits : 30\n"
     ]
    },
    {
     "data": {
      "text/plain": [
       "True"
      ]
     },
     "execution_count": 16,
     "metadata": {},
     "output_type": "execute_result"
    }
   ],
   "source": [
    "solution('4111111111111111')"
   ]
  },
  {
   "cell_type": "code",
   "execution_count": 17,
   "metadata": {},
   "outputs": [
    {
     "name": "stdout",
     "output_type": "stream",
     "text": [
      "Total sum of digits : 91\n"
     ]
    },
    {
     "data": {
      "text/plain": [
       "False"
      ]
     },
     "execution_count": 17,
     "metadata": {},
     "output_type": "execute_result"
    }
   ],
   "source": [
    "solution('4198786787558765')"
   ]
  },
  {
   "cell_type": "code",
   "execution_count": 18,
   "metadata": {},
   "outputs": [
    {
     "name": "stdout",
     "output_type": "stream",
     "text": [
      "Total sum of digits : 86\n"
     ]
    },
    {
     "data": {
      "text/plain": [
       "False"
      ]
     },
     "execution_count": 18,
     "metadata": {},
     "output_type": "execute_result"
    }
   ],
   "source": [
    "solution('9875787643456354')"
   ]
  },
  {
   "cell_type": "code",
   "execution_count": null,
   "metadata": {},
   "outputs": [],
   "source": []
  }
 ],
 "metadata": {
  "kernelspec": {
   "display_name": "Python 3",
   "language": "python",
   "name": "python3"
  },
  "language_info": {
   "codemirror_mode": {
    "name": "ipython",
    "version": 3
   },
   "file_extension": ".py",
   "mimetype": "text/x-python",
   "name": "python",
   "nbconvert_exporter": "python",
   "pygments_lexer": "ipython3",
   "version": "3.7.3"
  }
 },
 "nbformat": 4,
 "nbformat_minor": 2
}
